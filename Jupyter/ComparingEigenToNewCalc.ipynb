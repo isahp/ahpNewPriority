{
 "cells": [
  {
   "cell_type": "markdown",
   "metadata": {},
   "source": [
    "# Examples comparing eigen to new calc"
   ]
  },
  {
   "cell_type": "code",
   "execution_count": 1,
   "metadata": {
    "collapsed": false
   },
   "outputs": [
    {
     "data": {
      "text/plain": [
       "'%.3f'"
      ]
     },
     "execution_count": 1,
     "metadata": {},
     "output_type": "execute_result"
    }
   ],
   "source": [
    "import numpy as np\n",
    "import prioritycalcs.basics.eigen as eigen\n",
    "import prioritycalcs.basics.bill as bill\n",
    "import scipy.stats as ss\n",
    "%precision 3"
   ]
  },
  {
   "cell_type": "code",
   "execution_count": 2,
   "metadata": {
    "collapsed": false
   },
   "outputs": [
    {
     "data": {
      "text/plain": [
       "array([[ 1.   ,  0.333,  3.   ,  1.   ],\n",
       "       [ 3.   ,  1.   ,  0.333,  3.   ],\n",
       "       [ 0.333,  3.   ,  1.   ,  0.111],\n",
       "       [ 1.   ,  0.333,  9.   ,  1.   ]])"
      ]
     },
     "execution_count": 2,
     "metadata": {},
     "output_type": "execute_result"
    }
   ],
   "source": [
    "sarah = np.array([[1.,  1./3, 3. , 1], \n",
    "                  [3 ,   1., 1./3 ,3 ], \n",
    "                  [1./3 , 3, 1., 1./9], \n",
    "                  [1, 1./3, 9, 1.]])\n",
    "sarah"
   ]
  },
  {
   "cell_type": "markdown",
   "metadata": {},
   "source": [
    "## Comparing Eigen To Bill's Method"
   ]
  },
  {
   "cell_type": "code",
   "execution_count": 3,
   "metadata": {
    "collapsed": false
   },
   "outputs": [
    {
     "name": "stdout",
     "output_type": "stream",
     "text": [
      "[ 0.179  0.297  0.18   0.345]\n",
      "[ 0.238  0.313  0.137  0.313]\n"
     ]
    }
   ],
   "source": [
    "print(eigen.largest_eigen(sarah))\n",
    "print(bill.be_priorities(sarah))"
   ]
  },
  {
   "cell_type": "markdown",
   "metadata": {},
   "source": [
    "## Quick sanity check that both calcs agree on 3x3 submatrices of those votes"
   ]
  },
  {
   "cell_type": "code",
   "execution_count": 4,
   "metadata": {
    "collapsed": false
   },
   "outputs": [
    {
     "name": "stdout",
     "output_type": "stream",
     "text": [
      "[ 0.374  0.086  0.539]\n",
      "[ 0.374  0.086  0.539]\n"
     ]
    }
   ],
   "source": [
    "indices = [0,2,3]\n",
    "subsarah = sarah[indices,:][:,indices]\n",
    "print(eigen.largest_eigen(subsarah))\n",
    "print(bill.be_priorities(subsarah))"
   ]
  },
  {
   "cell_type": "markdown",
   "metadata": {
    "collapsed": true
   },
   "source": [
    "## An example for Elena\n",
    "This is an example that Elena is going to do"
   ]
  },
  {
   "cell_type": "code",
   "execution_count": 5,
   "metadata": {
    "collapsed": false
   },
   "outputs": [
    {
     "name": "stdout",
     "output_type": "stream",
     "text": [
      "[[ 1.     2.     3.     4.   ]\n",
      " [ 0.5    1.     5.     6.   ]\n",
      " [ 0.333  0.2    1.     7.   ]\n",
      " [ 0.25   0.167  0.143  1.   ]]\n"
     ]
    }
   ],
   "source": [
    "elena = np.array([\n",
    "        [1, 2, 3, 4],\n",
    "        [1./2, 1, 5, 6],\n",
    "        [1./3, 1./5, 1, 7],\n",
    "        [1./4, 1./6, 1./7, 1]\n",
    "    ])\n",
    "print(elena)"
   ]
  },
  {
   "cell_type": "code",
   "execution_count": 24,
   "metadata": {
    "collapsed": false
   },
   "outputs": [
    {
     "name": "stdout",
     "output_type": "stream",
     "text": [
      "[ 0.408  0.376  0.163  0.053]\n",
      "[ 0.419  0.372  0.156  0.053]\n",
      "0.206964932923\n"
     ]
    }
   ],
   "source": [
    "print(eigen.largest_eigen(elena))\n",
    "print(bill.be_priorities(elena))\n",
    "print(eigen.inconsistency(elena))"
   ]
  },
  {
   "cell_type": "markdown",
   "metadata": {},
   "source": [
    "We are not particularly inconsistent, so the results are fairly similar."
   ]
  },
  {
   "cell_type": "markdown",
   "metadata": {},
   "source": [
    "## Another example with more inconsistency"
   ]
  },
  {
   "cell_type": "code",
   "execution_count": 7,
   "metadata": {
    "collapsed": false
   },
   "outputs": [
    {
     "data": {
      "text/plain": [
       "array([[ 1.   ,  2.   ,  0.111,  4.   ],\n",
       "       [ 0.5  ,  1.   ,  5.   ,  6.   ],\n",
       "       [ 9.   ,  0.2  ,  1.   ,  7.   ],\n",
       "       [ 0.25 ,  0.167,  0.143,  1.   ]])"
      ]
     },
     "execution_count": 7,
     "metadata": {},
     "output_type": "execute_result"
    }
   ],
   "source": [
    "elena2 = np.array([\n",
    "        [1, 2, 1./9, 4],\n",
    "        [1./2, 1, 5, 6],\n",
    "        [9, 1./5, 1, 7],\n",
    "        [1./4, 1./6, 1./7, 1]\n",
    "    ])\n",
    "elena2"
   ]
  },
  {
   "cell_type": "code",
   "execution_count": 23,
   "metadata": {
    "collapsed": false
   },
   "outputs": [
    {
     "name": "stdout",
     "output_type": "stream",
     "text": [
      "[ 0.186  0.408  0.374  0.032]\n",
      "[ 0.19   0.386  0.369  0.054]\n",
      "0.846985122921\n"
     ]
    }
   ],
   "source": [
    "print(eigen.largest_eigen(elena2))\n",
    "print(bill.be_priorities(elena2))\n",
    "print(eigen.inconsistency(elena2))"
   ]
  },
  {
   "cell_type": "markdown",
   "metadata": {},
   "source": [
    "## Minimal working example"
   ]
  },
  {
   "cell_type": "code",
   "execution_count": 9,
   "metadata": {
    "collapsed": false
   },
   "outputs": [
    {
     "name": "stdout",
     "output_type": "stream",
     "text": [
      "[[ 1.   2.   0.5  1. ]\n",
      " [ 0.5  1.   1.   1. ]\n",
      " [ 2.   1.   1.   1. ]\n",
      " [ 1.   1.   1.   1. ]]\n"
     ]
    }
   ],
   "source": [
    "mwe = np.array([\n",
    "        [1, 2, 1/2., 1],\n",
    "        [1/2., 1, 1, 1],\n",
    "        [2., 1, 1, 1],\n",
    "        [1, 1, 1, 1]\n",
    "    ])\n",
    "print(mwe)"
   ]
  },
  {
   "cell_type": "code",
   "execution_count": 10,
   "metadata": {
    "collapsed": false
   },
   "outputs": [
    {
     "name": "stdout",
     "output_type": "stream",
     "text": [
      "[ 0.253  0.209  0.299  0.239]\n",
      "[ 0.253  0.299  0.209  0.239]\n",
      "[ 3.  1.  4.  2.]\n",
      "[ 3.  4.  1.  2.]\n"
     ]
    }
   ],
   "source": [
    "print(eigen.largest_eigen(mwe))\n",
    "print(eigen.largest_eigen(mwe.transpose()))\n",
    "print(ss.rankdata(eigen.largest_eigen(mwe)))\n",
    "print(ss.rankdata(eigen.largest_eigen(mwe.transpose())))"
   ]
  },
  {
   "cell_type": "code",
   "execution_count": 11,
   "metadata": {
    "collapsed": false
   },
   "outputs": [
    {
     "name": "stdout",
     "output_type": "stream",
     "text": [
      "0.068710207503\n",
      "0.068710207503\n"
     ]
    }
   ],
   "source": [
    "print(eigen.inconsistency(mwe))\n",
    "print(eigen.inconsistency(mwe.transpose()))"
   ]
  },
  {
   "cell_type": "code",
   "execution_count": 12,
   "metadata": {
    "collapsed": false
   },
   "outputs": [
    {
     "name": "stdout",
     "output_type": "stream",
     "text": [
      "[ 0.248  0.209  0.295  0.248]\n",
      "[ 0.248  0.295  0.209  0.248]\n",
      "[ 2.5  1.   4.   2.5]\n",
      "[ 2.5  4.   1.   2.5]\n"
     ]
    }
   ],
   "source": [
    "print(bill.be_priorities(mwe))\n",
    "print(bill.be_priorities(mwe.transpose()))\n",
    "print(ss.rankdata(bill.be_priorities(mwe)))\n",
    "print(ss.rankdata(bill.be_priorities(mwe.transpose())))"
   ]
  },
  {
   "cell_type": "markdown",
   "metadata": {},
   "source": [
    "## Slightly less minimal working example"
   ]
  },
  {
   "cell_type": "code",
   "execution_count": 13,
   "metadata": {
    "collapsed": false
   },
   "outputs": [
    {
     "data": {
      "text/plain": [
       "array([[ 1.   ,  2.   ,  0.5  ,  0.909],\n",
       "       [ 0.5  ,  1.   ,  1.   ,  1.   ],\n",
       "       [ 2.   ,  1.   ,  1.   ,  1.   ],\n",
       "       [ 1.1  ,  1.   ,  1.   ,  1.   ]])"
      ]
     },
     "execution_count": 13,
     "metadata": {},
     "output_type": "execute_result"
    }
   ],
   "source": [
    "mwe2 = np.array([\n",
    "        [1, 2, 1/2., 1/1.1],\n",
    "        [1/2., 1, 1, 1],\n",
    "        [2., 1, 1, 1],\n",
    "        [1.1, 1, 1, 1]\n",
    "    ])\n",
    "mwe2"
   ]
  },
  {
   "cell_type": "code",
   "execution_count": 14,
   "metadata": {
    "collapsed": false
   },
   "outputs": [
    {
     "name": "stdout",
     "output_type": "stream",
     "text": [
      "[ 0.248  0.209  0.298  0.245]\n",
      "[ 0.258  0.301  0.208  0.233]\n",
      "[ 3.  1.  4.  2.]\n",
      "[ 3.  4.  1.  2.]\n"
     ]
    }
   ],
   "source": [
    "print(eigen.largest_eigen(mwe2))\n",
    "print(eigen.largest_eigen(mwe2.transpose()))\n",
    "print(ss.rankdata(eigen.largest_eigen(mwe2)))\n",
    "print(ss.rankdata(eigen.largest_eigen(mwe2.transpose())))"
   ]
  },
  {
   "cell_type": "code",
   "execution_count": 15,
   "metadata": {
    "collapsed": false
   },
   "outputs": [
    {
     "name": "stdout",
     "output_type": "stream",
     "text": [
      "[ 0.242  0.209  0.295  0.254]\n",
      "[ 0.254  0.295  0.209  0.242]\n",
      "[ 2.  1.  4.  3.]\n",
      "[ 3.  4.  1.  2.]\n"
     ]
    }
   ],
   "source": [
    "print(bill.be_priorities(mwe2))\n",
    "print(bill.be_priorities(mwe2.transpose()))\n",
    "print(ss.rankdata(bill.be_priorities(mwe2)))\n",
    "print(ss.rankdata(bill.be_priorities(mwe2.transpose())))"
   ]
  },
  {
   "cell_type": "code",
   "execution_count": 16,
   "metadata": {
    "collapsed": false
   },
   "outputs": [],
   "source": [
    "def bnorm(x):\n",
    "    return(x/sum(x))\n",
    "\n",
    "def binv(x):\n",
    "    return(bnorm(1./x))"
   ]
  },
  {
   "cell_type": "code",
   "execution_count": 17,
   "metadata": {
    "collapsed": false
   },
   "outputs": [
    {
     "data": {
      "text/plain": [
       "0.069"
      ]
     },
     "execution_count": 17,
     "metadata": {},
     "output_type": "execute_result"
    }
   ],
   "source": [
    "eigen.inconsistency(mwe2)"
   ]
  },
  {
   "cell_type": "markdown",
   "metadata": {},
   "source": [
    "## Calculations from ISAHP Paper"
   ]
  },
  {
   "cell_type": "code",
   "execution_count": 27,
   "metadata": {
    "collapsed": false
   },
   "outputs": [],
   "source": [
    "#First define the calculation on a general matrix\n",
    "def details_3_cmps(sarah):\n",
    "    print(eigen.largest_eigen(sarah))\n",
    "    print(binv(eigen.largest_eigen(sarah)))\n",
    "    print(eigen.largest_eigen(sarah.transpose()))\n",
    "    print()\n",
    "    print(bill.be_priorities(sarah))\n",
    "    print(binv(bill.be_priorities(sarah)))\n",
    "    print(bill.be_priorities(sarah.transpose()))\n",
    "    print()\n",
    "    print(bill.b_priorities2(sarah))\n",
    "    print(binv(bill.b_priorities2(sarah)))\n",
    "    print(bill.b_priorities2(sarah.transpose()))\n",
    "    print()\n",
    "    print(eigen.inconsistency(sarah))"
   ]
  },
  {
   "cell_type": "code",
   "execution_count": 28,
   "metadata": {
    "collapsed": false
   },
   "outputs": [
    {
     "name": "stdout",
     "output_type": "stream",
     "text": [
      "[ 0.179  0.297  0.18   0.345]\n",
      "[ 0.321  0.193  0.319  0.166]\n",
      "[ 0.187  0.24   0.4    0.173]\n",
      "\n",
      "[ 0.238  0.313  0.137  0.313]\n",
      "[ 0.235  0.179  0.407  0.179]\n",
      "[ 0.235  0.179  0.407  0.179]\n",
      "\n",
      "[ 0.212  0.358  0.174  0.256]\n",
      "[ 0.275  0.162  0.335  0.227]\n",
      "[ 0.232  0.253  0.359  0.156]\n",
      "\n",
      "0.924724652579\n"
     ]
    }
   ],
   "source": [
    "details_3_cmps(sarah)"
   ]
  },
  {
   "cell_type": "code",
   "execution_count": 29,
   "metadata": {
    "collapsed": false
   },
   "outputs": [
    {
     "name": "stdout",
     "output_type": "stream",
     "text": [
      "[ 0.408  0.376  0.163  0.053]\n",
      "[ 0.081  0.088  0.203  0.628]\n",
      "[ 0.076  0.084  0.207  0.634]\n",
      "\n",
      "[ 0.419  0.372  0.156  0.053]\n",
      "[ 0.078  0.088  0.21   0.624]\n",
      "[ 0.078  0.088  0.21   0.624]\n",
      "\n",
      "[ 0.492  0.31   0.127  0.071]\n",
      "[ 0.075  0.118  0.289  0.518]\n",
      "[ 0.117  0.097  0.134  0.651]\n",
      "\n",
      "0.206964932923\n"
     ]
    }
   ],
   "source": [
    "details_3_cmps(elena)"
   ]
  },
  {
   "cell_type": "code",
   "execution_count": 30,
   "metadata": {
    "collapsed": false
   },
   "outputs": [
    {
     "name": "stdout",
     "output_type": "stream",
     "text": [
      "[ 0.253  0.209  0.299  0.239]\n",
      "[ 0.243  0.295  0.205  0.257]\n",
      "[ 0.253  0.299  0.209  0.239]\n",
      "\n",
      "[ 0.248  0.209  0.295  0.248]\n",
      "[ 0.248  0.295  0.209  0.248]\n",
      "[ 0.248  0.295  0.209  0.248]\n",
      "\n",
      "[ 0.238  0.214  0.297  0.252]\n",
      "[ 0.259  0.289  0.208  0.245]\n",
      "[ 0.238  0.297  0.214  0.252]\n",
      "\n",
      "0.068710207503\n"
     ]
    }
   ],
   "source": [
    "details_3_cmps(mwe)"
   ]
  },
  {
   "cell_type": "code",
   "execution_count": null,
   "metadata": {
    "collapsed": true
   },
   "outputs": [],
   "source": []
  }
 ],
 "metadata": {
  "hide_input": false,
  "kernelspec": {
   "display_name": "Python 3",
   "language": "python",
   "name": "python3"
  },
  "language_info": {
   "codemirror_mode": {
    "name": "ipython",
    "version": 3
   },
   "file_extension": ".py",
   "mimetype": "text/x-python",
   "name": "python",
   "nbconvert_exporter": "python",
   "pygments_lexer": "ipython3",
   "version": "3.5.1"
  }
 },
 "nbformat": 4,
 "nbformat_minor": 0
}
